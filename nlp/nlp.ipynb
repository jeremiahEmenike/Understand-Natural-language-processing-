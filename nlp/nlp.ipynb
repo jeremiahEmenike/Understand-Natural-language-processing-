{
 "cells": [
  {
   "cell_type": "markdown",
   "metadata": {},
   "source": [
    "# NATURAL LANGUAGE PROCESSING"
   ]
  },
  {
   "cell_type": "markdown",
   "metadata": {},
   "source": [
    "### Exercice 1 : ANALYSE DE REPRÉSENTATION DES MOTS AVEC BOW, TD-IDF, Word2Vc,GloVe"
   ]
  },
  {
   "cell_type": "markdown",
   "metadata": {},
   "source": [
    "##### I- BAG OF WORDS:\n"
   ]
  },
  {
   "cell_type": "markdown",
   "metadata": {},
   "source": [
    "a- Vocabulaire :"
   ]
  },
  {
   "cell_type": "markdown",
   "metadata": {},
   "source": [
    "Nous voulons avoir une liste de mots uniques à partir du document:"
   ]
  },
  {
   "cell_type": "code",
   "execution_count": 29,
   "metadata": {},
   "outputs": [
    {
     "data": {
      "text/plain": [
       "array(['amis', 'chasse', 'chat', 'chien', 'du', 'et', 'fromage', 'la',\n",
       "       'le', 'mange', 'sont', 'souris'], dtype=object)"
      ]
     },
     "execution_count": 29,
     "metadata": {},
     "output_type": "execute_result"
    }
   ],
   "source": [
    "# Import CountVectorizer\n",
    "from sklearn.feature_extraction.text import CountVectorizer\n",
    "\n",
    "# Documents\n",
    "documents = [\n",
    "    \"Le chat mange la souris.\",\n",
    "    \"La souris mange du fromage.\",\n",
    "    \"Le chien chasse le chat.\",\n",
    "    \"Le chien et le chat sont amis.\"\n",
    "]\n",
    "vectorizer = CountVectorizer()   # Initialize the CountVectorizer\n",
    "X = vectorizer.fit_transform(documents) # Fit and transform the documents\n",
    "vocabulary = vectorizer.get_feature_names_out() # Get the vocabulary (feature names)\n",
    "vocabulary # print out vocabulary"
   ]
  },
  {
   "cell_type": "markdown",
   "metadata": {},
   "source": [
    "b-MATRICE DE TERMES"
   ]
  },
  {
   "cell_type": "markdown",
   "metadata": {},
   "source": [
    "on veut l'occurence de chaque mot dans chaque document sous forme de matrice"
   ]
  },
  {
   "cell_type": "code",
   "execution_count": 30,
   "metadata": {},
   "outputs": [
    {
     "data": {
      "text/html": [
       "<div>\n",
       "<style scoped>\n",
       "    .dataframe tbody tr th:only-of-type {\n",
       "        vertical-align: middle;\n",
       "    }\n",
       "\n",
       "    .dataframe tbody tr th {\n",
       "        vertical-align: top;\n",
       "    }\n",
       "\n",
       "    .dataframe thead th {\n",
       "        text-align: right;\n",
       "    }\n",
       "</style>\n",
       "<table border=\"1\" class=\"dataframe\">\n",
       "  <thead>\n",
       "    <tr style=\"text-align: right;\">\n",
       "      <th></th>\n",
       "      <th>amis</th>\n",
       "      <th>chasse</th>\n",
       "      <th>chat</th>\n",
       "      <th>chien</th>\n",
       "      <th>du</th>\n",
       "      <th>et</th>\n",
       "      <th>fromage</th>\n",
       "      <th>la</th>\n",
       "      <th>le</th>\n",
       "      <th>mange</th>\n",
       "      <th>sont</th>\n",
       "      <th>souris</th>\n",
       "    </tr>\n",
       "  </thead>\n",
       "  <tbody>\n",
       "    <tr>\n",
       "      <th>0</th>\n",
       "      <td>0</td>\n",
       "      <td>0</td>\n",
       "      <td>1</td>\n",
       "      <td>0</td>\n",
       "      <td>0</td>\n",
       "      <td>0</td>\n",
       "      <td>0</td>\n",
       "      <td>1</td>\n",
       "      <td>1</td>\n",
       "      <td>1</td>\n",
       "      <td>0</td>\n",
       "      <td>1</td>\n",
       "    </tr>\n",
       "    <tr>\n",
       "      <th>1</th>\n",
       "      <td>0</td>\n",
       "      <td>0</td>\n",
       "      <td>0</td>\n",
       "      <td>0</td>\n",
       "      <td>1</td>\n",
       "      <td>0</td>\n",
       "      <td>1</td>\n",
       "      <td>1</td>\n",
       "      <td>0</td>\n",
       "      <td>1</td>\n",
       "      <td>0</td>\n",
       "      <td>1</td>\n",
       "    </tr>\n",
       "    <tr>\n",
       "      <th>2</th>\n",
       "      <td>0</td>\n",
       "      <td>1</td>\n",
       "      <td>1</td>\n",
       "      <td>1</td>\n",
       "      <td>0</td>\n",
       "      <td>0</td>\n",
       "      <td>0</td>\n",
       "      <td>0</td>\n",
       "      <td>2</td>\n",
       "      <td>0</td>\n",
       "      <td>0</td>\n",
       "      <td>0</td>\n",
       "    </tr>\n",
       "    <tr>\n",
       "      <th>3</th>\n",
       "      <td>1</td>\n",
       "      <td>0</td>\n",
       "      <td>1</td>\n",
       "      <td>1</td>\n",
       "      <td>0</td>\n",
       "      <td>1</td>\n",
       "      <td>0</td>\n",
       "      <td>0</td>\n",
       "      <td>2</td>\n",
       "      <td>0</td>\n",
       "      <td>1</td>\n",
       "      <td>0</td>\n",
       "    </tr>\n",
       "  </tbody>\n",
       "</table>\n",
       "</div>"
      ],
      "text/plain": [
       "   amis  chasse  chat  chien  du  et  fromage  la  le  mange  sont  souris\n",
       "0     0       0     1      0   0   0        0   1   1      1     0       1\n",
       "1     0       0     0      0   1   0        1   1   0      1     0       1\n",
       "2     0       1     1      1   0   0        0   0   2      0     0       0\n",
       "3     1       0     1      1   0   1        0   0   2      0     1       0"
      ]
     },
     "execution_count": 30,
     "metadata": {},
     "output_type": "execute_result"
    }
   ],
   "source": [
    "# Convert the term-document matrix to a DataFrame for better readability\n",
    "import pandas as pd\n",
    "term_document_matrix = pd.DataFrame(X.toarray(), columns=vocabulary)\n",
    "term_document_matrix\n"
   ]
  },
  {
   "cell_type": "markdown",
   "metadata": {},
   "source": [
    "On a une matrice de termes convertie en data frame qui represente nos mots uniques ainsi notre bag of words."
   ]
  },
  {
   "cell_type": "markdown",
   "metadata": {},
   "source": [
    "##### II- TD-Idf\n"
   ]
  },
  {
   "cell_type": "markdown",
   "metadata": {},
   "source": [
    "a-TF"
   ]
  },
  {
   "cell_type": "markdown",
   "metadata": {},
   "source": [
    "Nous voulons avoir la fréquence de chaque terme dans chaque document"
   ]
  },
  {
   "cell_type": "code",
   "execution_count": 31,
   "metadata": {},
   "outputs": [
    {
     "data": {
      "text/html": [
       "<div>\n",
       "<style scoped>\n",
       "    .dataframe tbody tr th:only-of-type {\n",
       "        vertical-align: middle;\n",
       "    }\n",
       "\n",
       "    .dataframe tbody tr th {\n",
       "        vertical-align: top;\n",
       "    }\n",
       "\n",
       "    .dataframe thead th {\n",
       "        text-align: right;\n",
       "    }\n",
       "</style>\n",
       "<table border=\"1\" class=\"dataframe\">\n",
       "  <thead>\n",
       "    <tr style=\"text-align: right;\">\n",
       "      <th></th>\n",
       "      <th>amis</th>\n",
       "      <th>chasse</th>\n",
       "      <th>chat</th>\n",
       "      <th>chien</th>\n",
       "      <th>du</th>\n",
       "      <th>et</th>\n",
       "      <th>fromage</th>\n",
       "      <th>la</th>\n",
       "      <th>le</th>\n",
       "      <th>mange</th>\n",
       "      <th>sont</th>\n",
       "      <th>souris</th>\n",
       "    </tr>\n",
       "  </thead>\n",
       "  <tbody>\n",
       "    <tr>\n",
       "      <th>0</th>\n",
       "      <td>0.000000</td>\n",
       "      <td>0.0</td>\n",
       "      <td>0.200000</td>\n",
       "      <td>0.000000</td>\n",
       "      <td>0.0</td>\n",
       "      <td>0.000000</td>\n",
       "      <td>0.0</td>\n",
       "      <td>0.2</td>\n",
       "      <td>0.200000</td>\n",
       "      <td>0.2</td>\n",
       "      <td>0.000000</td>\n",
       "      <td>0.2</td>\n",
       "    </tr>\n",
       "    <tr>\n",
       "      <th>1</th>\n",
       "      <td>0.000000</td>\n",
       "      <td>0.0</td>\n",
       "      <td>0.000000</td>\n",
       "      <td>0.000000</td>\n",
       "      <td>0.2</td>\n",
       "      <td>0.000000</td>\n",
       "      <td>0.2</td>\n",
       "      <td>0.2</td>\n",
       "      <td>0.000000</td>\n",
       "      <td>0.2</td>\n",
       "      <td>0.000000</td>\n",
       "      <td>0.2</td>\n",
       "    </tr>\n",
       "    <tr>\n",
       "      <th>2</th>\n",
       "      <td>0.000000</td>\n",
       "      <td>0.2</td>\n",
       "      <td>0.200000</td>\n",
       "      <td>0.200000</td>\n",
       "      <td>0.0</td>\n",
       "      <td>0.000000</td>\n",
       "      <td>0.0</td>\n",
       "      <td>0.0</td>\n",
       "      <td>0.400000</td>\n",
       "      <td>0.0</td>\n",
       "      <td>0.000000</td>\n",
       "      <td>0.0</td>\n",
       "    </tr>\n",
       "    <tr>\n",
       "      <th>3</th>\n",
       "      <td>0.142857</td>\n",
       "      <td>0.0</td>\n",
       "      <td>0.142857</td>\n",
       "      <td>0.142857</td>\n",
       "      <td>0.0</td>\n",
       "      <td>0.142857</td>\n",
       "      <td>0.0</td>\n",
       "      <td>0.0</td>\n",
       "      <td>0.285714</td>\n",
       "      <td>0.0</td>\n",
       "      <td>0.142857</td>\n",
       "      <td>0.0</td>\n",
       "    </tr>\n",
       "  </tbody>\n",
       "</table>\n",
       "</div>"
      ],
      "text/plain": [
       "       amis  chasse      chat     chien   du        et  fromage   la  \\\n",
       "0  0.000000     0.0  0.200000  0.000000  0.0  0.000000      0.0  0.2   \n",
       "1  0.000000     0.0  0.000000  0.000000  0.2  0.000000      0.2  0.2   \n",
       "2  0.000000     0.2  0.200000  0.200000  0.0  0.000000      0.0  0.0   \n",
       "3  0.142857     0.0  0.142857  0.142857  0.0  0.142857      0.0  0.0   \n",
       "\n",
       "         le  mange      sont  souris  \n",
       "0  0.200000    0.2  0.000000     0.2  \n",
       "1  0.000000    0.2  0.000000     0.2  \n",
       "2  0.400000    0.0  0.000000     0.0  \n",
       "3  0.285714    0.0  0.142857     0.0  "
      ]
     },
     "execution_count": 31,
     "metadata": {},
     "output_type": "execute_result"
    }
   ],
   "source": [
    "# Calculer la fréquence des termes (TF)\n",
    "tf = term_document_matrix.div(term_document_matrix.sum(axis=1), axis=0)\n",
    "tf"
   ]
  },
  {
   "cell_type": "markdown",
   "metadata": {},
   "source": [
    "b- IDF"
   ]
  },
  {
   "cell_type": "markdown",
   "metadata": {},
   "source": [
    "Nous voulons avoir l'inverse du nombre de documents contenant un terme sur le nombre total de documents"
   ]
  },
  {
   "cell_type": "code",
   "execution_count": 32,
   "metadata": {},
   "outputs": [
    {
     "name": "stdout",
     "output_type": "stream",
     "text": [
      "\n",
      "Inverse Document Frequency (IDF) :\n"
     ]
    },
    {
     "data": {
      "text/html": [
       "<div>\n",
       "<style scoped>\n",
       "    .dataframe tbody tr th:only-of-type {\n",
       "        vertical-align: middle;\n",
       "    }\n",
       "\n",
       "    .dataframe tbody tr th {\n",
       "        vertical-align: top;\n",
       "    }\n",
       "\n",
       "    .dataframe thead th {\n",
       "        text-align: right;\n",
       "    }\n",
       "</style>\n",
       "<table border=\"1\" class=\"dataframe\">\n",
       "  <thead>\n",
       "    <tr style=\"text-align: right;\">\n",
       "      <th></th>\n",
       "      <th>IDF</th>\n",
       "    </tr>\n",
       "  </thead>\n",
       "  <tbody>\n",
       "    <tr>\n",
       "      <th>amis</th>\n",
       "      <td>1.386294</td>\n",
       "    </tr>\n",
       "    <tr>\n",
       "      <th>chasse</th>\n",
       "      <td>1.386294</td>\n",
       "    </tr>\n",
       "    <tr>\n",
       "      <th>chat</th>\n",
       "      <td>0.287682</td>\n",
       "    </tr>\n",
       "    <tr>\n",
       "      <th>chien</th>\n",
       "      <td>0.693147</td>\n",
       "    </tr>\n",
       "    <tr>\n",
       "      <th>du</th>\n",
       "      <td>1.386294</td>\n",
       "    </tr>\n",
       "    <tr>\n",
       "      <th>et</th>\n",
       "      <td>1.386294</td>\n",
       "    </tr>\n",
       "    <tr>\n",
       "      <th>fromage</th>\n",
       "      <td>1.386294</td>\n",
       "    </tr>\n",
       "    <tr>\n",
       "      <th>la</th>\n",
       "      <td>0.693147</td>\n",
       "    </tr>\n",
       "    <tr>\n",
       "      <th>le</th>\n",
       "      <td>0.287682</td>\n",
       "    </tr>\n",
       "    <tr>\n",
       "      <th>mange</th>\n",
       "      <td>0.693147</td>\n",
       "    </tr>\n",
       "    <tr>\n",
       "      <th>sont</th>\n",
       "      <td>1.386294</td>\n",
       "    </tr>\n",
       "    <tr>\n",
       "      <th>souris</th>\n",
       "      <td>0.693147</td>\n",
       "    </tr>\n",
       "  </tbody>\n",
       "</table>\n",
       "</div>"
      ],
      "text/plain": [
       "              IDF\n",
       "amis     1.386294\n",
       "chasse   1.386294\n",
       "chat     0.287682\n",
       "chien    0.693147\n",
       "du       1.386294\n",
       "et       1.386294\n",
       "fromage  1.386294\n",
       "la       0.693147\n",
       "le       0.287682\n",
       "mange    0.693147\n",
       "sont     1.386294\n",
       "souris   0.693147"
      ]
     },
     "execution_count": 32,
     "metadata": {},
     "output_type": "execute_result"
    }
   ],
   "source": [
    "import numpy as np\n",
    "# Calculer IDF pour chaque terme\n",
    "N = len(documents)  # Nombre total de documents\n",
    "df = (term_document_matrix > 0).sum(axis=0)  # Nombre de documents contenant le terme\n",
    "idf = np.log(N / (df))  # Calculer l'IDF\n",
    "\n",
    "# Convertir l'IDF en DataFrame pour une meilleure lisibilité\n",
    "idf_df = pd.DataFrame(idf, index=vocabulary, columns=[\"IDF\"])\n",
    "print(\"\\nInverse Document Frequency (IDF) :\")\n",
    "idf_df"
   ]
  },
  {
   "cell_type": "markdown",
   "metadata": {},
   "source": [
    "c- la matrice TF-IDF"
   ]
  },
  {
   "cell_type": "markdown",
   "metadata": {},
   "source": [
    "Ici, il suffit de multiplier la fréquence de chaque terme dans chaque document (TF) par l'inverse des documents contenant le terme sur le nombre total des documents (IDF)"
   ]
  },
  {
   "cell_type": "code",
   "execution_count": 27,
   "metadata": {},
   "outputs": [
    {
     "data": {
      "text/html": [
       "<div>\n",
       "<style scoped>\n",
       "    .dataframe tbody tr th:only-of-type {\n",
       "        vertical-align: middle;\n",
       "    }\n",
       "\n",
       "    .dataframe tbody tr th {\n",
       "        vertical-align: top;\n",
       "    }\n",
       "\n",
       "    .dataframe thead th {\n",
       "        text-align: right;\n",
       "    }\n",
       "</style>\n",
       "<table border=\"1\" class=\"dataframe\">\n",
       "  <thead>\n",
       "    <tr style=\"text-align: right;\">\n",
       "      <th></th>\n",
       "      <th>amis</th>\n",
       "      <th>chasse</th>\n",
       "      <th>chat</th>\n",
       "      <th>chien</th>\n",
       "      <th>du</th>\n",
       "      <th>et</th>\n",
       "      <th>fromage</th>\n",
       "      <th>la</th>\n",
       "      <th>le</th>\n",
       "      <th>mange</th>\n",
       "      <th>sont</th>\n",
       "      <th>souris</th>\n",
       "    </tr>\n",
       "  </thead>\n",
       "  <tbody>\n",
       "    <tr>\n",
       "      <th>0</th>\n",
       "      <td>0.000000</td>\n",
       "      <td>0.000000</td>\n",
       "      <td>0.057536</td>\n",
       "      <td>0.000000</td>\n",
       "      <td>0.000000</td>\n",
       "      <td>0.000000</td>\n",
       "      <td>0.000000</td>\n",
       "      <td>0.138629</td>\n",
       "      <td>0.057536</td>\n",
       "      <td>0.138629</td>\n",
       "      <td>0.000000</td>\n",
       "      <td>0.138629</td>\n",
       "    </tr>\n",
       "    <tr>\n",
       "      <th>1</th>\n",
       "      <td>0.000000</td>\n",
       "      <td>0.000000</td>\n",
       "      <td>0.000000</td>\n",
       "      <td>0.000000</td>\n",
       "      <td>0.277259</td>\n",
       "      <td>0.000000</td>\n",
       "      <td>0.277259</td>\n",
       "      <td>0.138629</td>\n",
       "      <td>0.000000</td>\n",
       "      <td>0.138629</td>\n",
       "      <td>0.000000</td>\n",
       "      <td>0.138629</td>\n",
       "    </tr>\n",
       "    <tr>\n",
       "      <th>2</th>\n",
       "      <td>0.000000</td>\n",
       "      <td>0.277259</td>\n",
       "      <td>0.057536</td>\n",
       "      <td>0.138629</td>\n",
       "      <td>0.000000</td>\n",
       "      <td>0.000000</td>\n",
       "      <td>0.000000</td>\n",
       "      <td>0.000000</td>\n",
       "      <td>0.115073</td>\n",
       "      <td>0.000000</td>\n",
       "      <td>0.000000</td>\n",
       "      <td>0.000000</td>\n",
       "    </tr>\n",
       "    <tr>\n",
       "      <th>3</th>\n",
       "      <td>0.198042</td>\n",
       "      <td>0.000000</td>\n",
       "      <td>0.041097</td>\n",
       "      <td>0.099021</td>\n",
       "      <td>0.000000</td>\n",
       "      <td>0.198042</td>\n",
       "      <td>0.000000</td>\n",
       "      <td>0.000000</td>\n",
       "      <td>0.082195</td>\n",
       "      <td>0.000000</td>\n",
       "      <td>0.198042</td>\n",
       "      <td>0.000000</td>\n",
       "    </tr>\n",
       "  </tbody>\n",
       "</table>\n",
       "</div>"
      ],
      "text/plain": [
       "       amis    chasse      chat     chien        du        et   fromage  \\\n",
       "0  0.000000  0.000000  0.057536  0.000000  0.000000  0.000000  0.000000   \n",
       "1  0.000000  0.000000  0.000000  0.000000  0.277259  0.000000  0.277259   \n",
       "2  0.000000  0.277259  0.057536  0.138629  0.000000  0.000000  0.000000   \n",
       "3  0.198042  0.000000  0.041097  0.099021  0.000000  0.198042  0.000000   \n",
       "\n",
       "         la        le     mange      sont    souris  \n",
       "0  0.138629  0.057536  0.138629  0.000000  0.138629  \n",
       "1  0.138629  0.000000  0.138629  0.000000  0.138629  \n",
       "2  0.000000  0.115073  0.000000  0.000000  0.000000  \n",
       "3  0.000000  0.082195  0.000000  0.198042  0.000000  "
      ]
     },
     "execution_count": 27,
     "metadata": {},
     "output_type": "execute_result"
    }
   ],
   "source": [
    "# Calculer la matrice TF-IDF\n",
    "tf_idf = tf * idf\n",
    "tf_idf"
   ]
  },
  {
   "cell_type": "code",
   "execution_count": 34,
   "metadata": {},
   "outputs": [
    {
     "name": "stdout",
     "output_type": "stream",
     "text": [
      "\n",
      "TF-IDF :\n",
      "       amis    chasse      chat     chien        du        et   fromage  \\\n",
      "0  0.000000  0.000000  0.057536  0.000000  0.000000  0.000000  0.000000   \n",
      "1  0.000000  0.000000  0.000000  0.000000  0.277259  0.000000  0.277259   \n",
      "2  0.000000  0.277259  0.057536  0.138629  0.000000  0.000000  0.000000   \n",
      "3  0.198042  0.000000  0.041097  0.099021  0.000000  0.198042  0.000000   \n",
      "\n",
      "         la        le     mange      sont    souris  \n",
      "0  0.138629  0.057536  0.138629  0.000000  0.138629  \n",
      "1  0.138629  0.000000  0.138629  0.000000  0.138629  \n",
      "2  0.000000  0.115073  0.000000  0.000000  0.000000  \n",
      "3  0.000000  0.082195  0.000000  0.198042  0.000000  \n"
     ]
    }
   ],
   "source": [
    "# Convertir TF-IDF en DataFrame pour une meilleure lisibilité\n",
    "tf_idf_df = pd.DataFrame(tf_idf, columns=vocabulary)\n",
    "\n",
    "print(\"\\nTF-IDF :\")\n",
    "print(tf_idf_df)"
   ]
  },
  {
   "cell_type": "markdown",
   "metadata": {},
   "source": [
    "##### III- Word2Vec"
   ]
  },
  {
   "cell_type": "markdown",
   "metadata": {},
   "source": [
    "a.CONCEPTS"
   ]
  },
  {
   "cell_type": "markdown",
   "metadata": {},
   "source": [
    "Quand on veut transformer nos données << textes >> en données \"numériques\", et on veut que ces données numériques aient un \"sens\", on \n",
    "utilise du \"word embeddings\"; ainsi les \"mots similaires\" auront des \"données numériques similaires\". Un outil du word embedding est le word2vec.\n",
    "Ainsi, pour inclure < du context > à nos mots, on utilise le Word2Vec. "
   ]
  },
  {
   "cell_type": "markdown",
   "metadata": {},
   "source": [
    "Word2Vec est une méthode pour représenter les mots sous forme de vecteurs numériques qui capturent les similartés sémantiques et syntatiques entre les mots."
   ]
  },
  {
   "cell_type": "markdown",
   "metadata": {},
   "source": [
    "Pour ce faire, on a deux stratégies que Word2Vec utilise pour inclure du context: "
   ]
  },
  {
   "cell_type": "markdown",
   "metadata": {},
   "source": [
    "\n",
    "01-CBOW(Continuous Bag Of Word): pour augmenter le contexte, CBOW va utiliser les mots environnants(les mots voisins) pour prédire le mot au milieu.  Plus rapide à entraîner que Skip-gram, surtout avec des mots fréquents et Performe mieux avec des ensembles de données volumineux où les relations entre les mots sont bien établies.\n"
   ]
  },
  {
   "cell_type": "markdown",
   "metadata": {},
   "source": [
    "\n",
    "02-Skip-Gram : Pour augmenter le contexte, Skip-gram va utiliser le mot au milieu pour prédire les mots environnants; il peut mieux représenter les mots rares et capturer des relations syntaxiques plus précises, mais il est plus lent à entraîner. il peut capturer des relations plus fines et des analogies syntaxiques, ce qui en fait un choix préféré pour certaines tâches spécifiques comme l'analyse syntaxique."
   ]
  },
  {
   "cell_type": "code",
   "execution_count": 22,
   "metadata": {},
   "outputs": [],
   "source": [
    "from gensim.models import Word2Vec\n",
    "import re"
   ]
  }
 ],
 "metadata": {
  "kernelspec": {
   "display_name": "Python 3",
   "language": "python",
   "name": "python3"
  },
  "language_info": {
   "codemirror_mode": {
    "name": "ipython",
    "version": 3
   },
   "file_extension": ".py",
   "mimetype": "text/x-python",
   "name": "python",
   "nbconvert_exporter": "python",
   "pygments_lexer": "ipython3",
   "version": "3.12.1"
  }
 },
 "nbformat": 4,
 "nbformat_minor": 2
}
