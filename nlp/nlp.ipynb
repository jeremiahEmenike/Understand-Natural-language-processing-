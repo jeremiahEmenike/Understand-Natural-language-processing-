{
 "cells": [
  {
   "cell_type": "markdown",
   "metadata": {},
   "source": [
    "# NATURAL LANGUAGE PROCESSING"
   ]
  },
  {
   "cell_type": "markdown",
   "metadata": {},
   "source": [
    "## Exercice 1 : ANALYSE DE REPRÉSENTATION DES MOTS AVEC BOW, TD-IDF, Word2Vc,GloVe"
   ]
  },
  {
   "cell_type": "markdown",
   "metadata": {},
   "source": [
    "### I- BAG OF WORDS:\n"
   ]
  },
  {
   "cell_type": "markdown",
   "metadata": {},
   "source": [
    "#### a- Vocabulaire :"
   ]
  },
  {
   "cell_type": "code",
   "execution_count": 2,
   "metadata": {},
   "outputs": [
    {
     "data": {
      "text/plain": [
       "array(['amis', 'chasse', 'chat', 'chien', 'du', 'et', 'fromage', 'la',\n",
       "       'le', 'mange', 'sont', 'souris'], dtype=object)"
      ]
     },
     "execution_count": 2,
     "metadata": {},
     "output_type": "execute_result"
    }
   ],
   "source": [
    "# Import CountVectorizer\n",
    "from sklearn.feature_extraction.text import CountVectorizer\n",
    "\n",
    "# Documents\n",
    "documents = [\n",
    "    \"Le chat mange la souris.\",\n",
    "    \"La souris mange du fromage.\",\n",
    "    \"Le chien chasse le chat.\",\n",
    "    \"Le chien et le chat sont amis.\"\n",
    "]\n",
    "vectorizer = CountVectorizer()   # Initialize the CountVectorizer\n",
    "X = vectorizer.fit_transform(documents) # Fit and transform the documents\n",
    "vocabulary = vectorizer.get_feature_names_out() # Get the vocabulary (feature names)\n",
    "vocabulary # print out vocabulary"
   ]
  },
  {
   "cell_type": "markdown",
   "metadata": {},
   "source": [
    "#### b-MATRICE DE TERMES"
   ]
  },
  {
   "cell_type": "code",
   "execution_count": 4,
   "metadata": {},
   "outputs": [
    {
     "data": {
      "text/html": [
       "<div>\n",
       "<style scoped>\n",
       "    .dataframe tbody tr th:only-of-type {\n",
       "        vertical-align: middle;\n",
       "    }\n",
       "\n",
       "    .dataframe tbody tr th {\n",
       "        vertical-align: top;\n",
       "    }\n",
       "\n",
       "    .dataframe thead th {\n",
       "        text-align: right;\n",
       "    }\n",
       "</style>\n",
       "<table border=\"1\" class=\"dataframe\">\n",
       "  <thead>\n",
       "    <tr style=\"text-align: right;\">\n",
       "      <th></th>\n",
       "      <th>amis</th>\n",
       "      <th>chasse</th>\n",
       "      <th>chat</th>\n",
       "      <th>chien</th>\n",
       "      <th>du</th>\n",
       "      <th>et</th>\n",
       "      <th>fromage</th>\n",
       "      <th>la</th>\n",
       "      <th>le</th>\n",
       "      <th>mange</th>\n",
       "      <th>sont</th>\n",
       "      <th>souris</th>\n",
       "    </tr>\n",
       "  </thead>\n",
       "  <tbody>\n",
       "    <tr>\n",
       "      <th>0</th>\n",
       "      <td>0</td>\n",
       "      <td>0</td>\n",
       "      <td>1</td>\n",
       "      <td>0</td>\n",
       "      <td>0</td>\n",
       "      <td>0</td>\n",
       "      <td>0</td>\n",
       "      <td>1</td>\n",
       "      <td>1</td>\n",
       "      <td>1</td>\n",
       "      <td>0</td>\n",
       "      <td>1</td>\n",
       "    </tr>\n",
       "    <tr>\n",
       "      <th>1</th>\n",
       "      <td>0</td>\n",
       "      <td>0</td>\n",
       "      <td>0</td>\n",
       "      <td>0</td>\n",
       "      <td>1</td>\n",
       "      <td>0</td>\n",
       "      <td>1</td>\n",
       "      <td>1</td>\n",
       "      <td>0</td>\n",
       "      <td>1</td>\n",
       "      <td>0</td>\n",
       "      <td>1</td>\n",
       "    </tr>\n",
       "    <tr>\n",
       "      <th>2</th>\n",
       "      <td>0</td>\n",
       "      <td>1</td>\n",
       "      <td>1</td>\n",
       "      <td>1</td>\n",
       "      <td>0</td>\n",
       "      <td>0</td>\n",
       "      <td>0</td>\n",
       "      <td>0</td>\n",
       "      <td>2</td>\n",
       "      <td>0</td>\n",
       "      <td>0</td>\n",
       "      <td>0</td>\n",
       "    </tr>\n",
       "    <tr>\n",
       "      <th>3</th>\n",
       "      <td>1</td>\n",
       "      <td>0</td>\n",
       "      <td>1</td>\n",
       "      <td>1</td>\n",
       "      <td>0</td>\n",
       "      <td>1</td>\n",
       "      <td>0</td>\n",
       "      <td>0</td>\n",
       "      <td>2</td>\n",
       "      <td>0</td>\n",
       "      <td>1</td>\n",
       "      <td>0</td>\n",
       "    </tr>\n",
       "  </tbody>\n",
       "</table>\n",
       "</div>"
      ],
      "text/plain": [
       "   amis  chasse  chat  chien  du  et  fromage  la  le  mange  sont  souris\n",
       "0     0       0     1      0   0   0        0   1   1      1     0       1\n",
       "1     0       0     0      0   1   0        1   1   0      1     0       1\n",
       "2     0       1     1      1   0   0        0   0   2      0     0       0\n",
       "3     1       0     1      1   0   1        0   0   2      0     1       0"
      ]
     },
     "execution_count": 4,
     "metadata": {},
     "output_type": "execute_result"
    }
   ],
   "source": [
    "# Convert the term-document matrix to a DataFrame for better readability\n",
    "import pandas as pd\n",
    "term_document_matrix = pd.DataFrame(X.toarray(), columns=vocabulary)\n",
    "term_document_matrix\n"
   ]
  },
  {
   "cell_type": "markdown",
   "metadata": {},
   "source": [
    "### II- TD-Idf\n"
   ]
  },
  {
   "cell_type": "markdown",
   "metadata": {},
   "source": [
    "#### a-TF"
   ]
  },
  {
   "cell_type": "code",
   "execution_count": 5,
   "metadata": {},
   "outputs": [
    {
     "data": {
      "text/html": [
       "<div>\n",
       "<style scoped>\n",
       "    .dataframe tbody tr th:only-of-type {\n",
       "        vertical-align: middle;\n",
       "    }\n",
       "\n",
       "    .dataframe tbody tr th {\n",
       "        vertical-align: top;\n",
       "    }\n",
       "\n",
       "    .dataframe thead th {\n",
       "        text-align: right;\n",
       "    }\n",
       "</style>\n",
       "<table border=\"1\" class=\"dataframe\">\n",
       "  <thead>\n",
       "    <tr style=\"text-align: right;\">\n",
       "      <th></th>\n",
       "      <th>amis</th>\n",
       "      <th>chasse</th>\n",
       "      <th>chat</th>\n",
       "      <th>chien</th>\n",
       "      <th>du</th>\n",
       "      <th>et</th>\n",
       "      <th>fromage</th>\n",
       "      <th>la</th>\n",
       "      <th>le</th>\n",
       "      <th>mange</th>\n",
       "      <th>sont</th>\n",
       "      <th>souris</th>\n",
       "    </tr>\n",
       "  </thead>\n",
       "  <tbody>\n",
       "    <tr>\n",
       "      <th>0</th>\n",
       "      <td>0.000000</td>\n",
       "      <td>0.0</td>\n",
       "      <td>0.200000</td>\n",
       "      <td>0.000000</td>\n",
       "      <td>0.0</td>\n",
       "      <td>0.000000</td>\n",
       "      <td>0.0</td>\n",
       "      <td>0.2</td>\n",
       "      <td>0.200000</td>\n",
       "      <td>0.2</td>\n",
       "      <td>0.000000</td>\n",
       "      <td>0.2</td>\n",
       "    </tr>\n",
       "    <tr>\n",
       "      <th>1</th>\n",
       "      <td>0.000000</td>\n",
       "      <td>0.0</td>\n",
       "      <td>0.000000</td>\n",
       "      <td>0.000000</td>\n",
       "      <td>0.2</td>\n",
       "      <td>0.000000</td>\n",
       "      <td>0.2</td>\n",
       "      <td>0.2</td>\n",
       "      <td>0.000000</td>\n",
       "      <td>0.2</td>\n",
       "      <td>0.000000</td>\n",
       "      <td>0.2</td>\n",
       "    </tr>\n",
       "    <tr>\n",
       "      <th>2</th>\n",
       "      <td>0.000000</td>\n",
       "      <td>0.2</td>\n",
       "      <td>0.200000</td>\n",
       "      <td>0.200000</td>\n",
       "      <td>0.0</td>\n",
       "      <td>0.000000</td>\n",
       "      <td>0.0</td>\n",
       "      <td>0.0</td>\n",
       "      <td>0.400000</td>\n",
       "      <td>0.0</td>\n",
       "      <td>0.000000</td>\n",
       "      <td>0.0</td>\n",
       "    </tr>\n",
       "    <tr>\n",
       "      <th>3</th>\n",
       "      <td>0.142857</td>\n",
       "      <td>0.0</td>\n",
       "      <td>0.142857</td>\n",
       "      <td>0.142857</td>\n",
       "      <td>0.0</td>\n",
       "      <td>0.142857</td>\n",
       "      <td>0.0</td>\n",
       "      <td>0.0</td>\n",
       "      <td>0.285714</td>\n",
       "      <td>0.0</td>\n",
       "      <td>0.142857</td>\n",
       "      <td>0.0</td>\n",
       "    </tr>\n",
       "  </tbody>\n",
       "</table>\n",
       "</div>"
      ],
      "text/plain": [
       "       amis  chasse      chat     chien   du        et  fromage   la  \\\n",
       "0  0.000000     0.0  0.200000  0.000000  0.0  0.000000      0.0  0.2   \n",
       "1  0.000000     0.0  0.000000  0.000000  0.2  0.000000      0.2  0.2   \n",
       "2  0.000000     0.2  0.200000  0.200000  0.0  0.000000      0.0  0.0   \n",
       "3  0.142857     0.0  0.142857  0.142857  0.0  0.142857      0.0  0.0   \n",
       "\n",
       "         le  mange      sont  souris  \n",
       "0  0.200000    0.2  0.000000     0.2  \n",
       "1  0.000000    0.2  0.000000     0.2  \n",
       "2  0.400000    0.0  0.000000     0.0  \n",
       "3  0.285714    0.0  0.142857     0.0  "
      ]
     },
     "execution_count": 5,
     "metadata": {},
     "output_type": "execute_result"
    }
   ],
   "source": [
    "# Calculer la fréquence des termes (TF)\n",
    "tf = term_document_matrix.div(term_document_matrix.sum(axis=1), axis=0)\n",
    "tf"
   ]
  },
  {
   "cell_type": "markdown",
   "metadata": {},
   "source": [
    "#### b- IDF"
   ]
  },
  {
   "cell_type": "code",
   "execution_count": 6,
   "metadata": {},
   "outputs": [
    {
     "name": "stdout",
     "output_type": "stream",
     "text": [
      "\n",
      "Inverse Document Frequency (IDF) :\n"
     ]
    },
    {
     "data": {
      "text/html": [
       "<div>\n",
       "<style scoped>\n",
       "    .dataframe tbody tr th:only-of-type {\n",
       "        vertical-align: middle;\n",
       "    }\n",
       "\n",
       "    .dataframe tbody tr th {\n",
       "        vertical-align: top;\n",
       "    }\n",
       "\n",
       "    .dataframe thead th {\n",
       "        text-align: right;\n",
       "    }\n",
       "</style>\n",
       "<table border=\"1\" class=\"dataframe\">\n",
       "  <thead>\n",
       "    <tr style=\"text-align: right;\">\n",
       "      <th></th>\n",
       "      <th>IDF</th>\n",
       "    </tr>\n",
       "  </thead>\n",
       "  <tbody>\n",
       "    <tr>\n",
       "      <th>amis</th>\n",
       "      <td>1.386294</td>\n",
       "    </tr>\n",
       "    <tr>\n",
       "      <th>chasse</th>\n",
       "      <td>1.386294</td>\n",
       "    </tr>\n",
       "    <tr>\n",
       "      <th>chat</th>\n",
       "      <td>0.287682</td>\n",
       "    </tr>\n",
       "    <tr>\n",
       "      <th>chien</th>\n",
       "      <td>0.693147</td>\n",
       "    </tr>\n",
       "    <tr>\n",
       "      <th>du</th>\n",
       "      <td>1.386294</td>\n",
       "    </tr>\n",
       "    <tr>\n",
       "      <th>et</th>\n",
       "      <td>1.386294</td>\n",
       "    </tr>\n",
       "    <tr>\n",
       "      <th>fromage</th>\n",
       "      <td>1.386294</td>\n",
       "    </tr>\n",
       "    <tr>\n",
       "      <th>la</th>\n",
       "      <td>0.693147</td>\n",
       "    </tr>\n",
       "    <tr>\n",
       "      <th>le</th>\n",
       "      <td>0.287682</td>\n",
       "    </tr>\n",
       "    <tr>\n",
       "      <th>mange</th>\n",
       "      <td>0.693147</td>\n",
       "    </tr>\n",
       "    <tr>\n",
       "      <th>sont</th>\n",
       "      <td>1.386294</td>\n",
       "    </tr>\n",
       "    <tr>\n",
       "      <th>souris</th>\n",
       "      <td>0.693147</td>\n",
       "    </tr>\n",
       "  </tbody>\n",
       "</table>\n",
       "</div>"
      ],
      "text/plain": [
       "              IDF\n",
       "amis     1.386294\n",
       "chasse   1.386294\n",
       "chat     0.287682\n",
       "chien    0.693147\n",
       "du       1.386294\n",
       "et       1.386294\n",
       "fromage  1.386294\n",
       "la       0.693147\n",
       "le       0.287682\n",
       "mange    0.693147\n",
       "sont     1.386294\n",
       "souris   0.693147"
      ]
     },
     "execution_count": 6,
     "metadata": {},
     "output_type": "execute_result"
    }
   ],
   "source": [
    "import numpy as np\n",
    "# Calculer IDF pour chaque terme\n",
    "N = len(documents)  # Nombre total de documents\n",
    "df = (term_document_matrix > 0).sum(axis=0)  # Nombre de documents contenant le terme\n",
    "idf = np.log(N / (df))  # Calculer l'IDF\n",
    "\n",
    "# Convertir l'IDF en DataFrame pour une meilleure lisibilité\n",
    "idf_df = pd.DataFrame(idf, index=vocabulary, columns=[\"IDF\"])\n",
    "print(\"\\nInverse Document Frequency (IDF) :\")\n",
    "idf_df"
   ]
  },
  {
   "cell_type": "markdown",
   "metadata": {},
   "source": [
    "#### c- la matrice TF-IDF"
   ]
  },
  {
   "cell_type": "code",
   "execution_count": 7,
   "metadata": {},
   "outputs": [
    {
     "data": {
      "text/html": [
       "<div>\n",
       "<style scoped>\n",
       "    .dataframe tbody tr th:only-of-type {\n",
       "        vertical-align: middle;\n",
       "    }\n",
       "\n",
       "    .dataframe tbody tr th {\n",
       "        vertical-align: top;\n",
       "    }\n",
       "\n",
       "    .dataframe thead th {\n",
       "        text-align: right;\n",
       "    }\n",
       "</style>\n",
       "<table border=\"1\" class=\"dataframe\">\n",
       "  <thead>\n",
       "    <tr style=\"text-align: right;\">\n",
       "      <th></th>\n",
       "      <th>amis</th>\n",
       "      <th>chasse</th>\n",
       "      <th>chat</th>\n",
       "      <th>chien</th>\n",
       "      <th>du</th>\n",
       "      <th>et</th>\n",
       "      <th>fromage</th>\n",
       "      <th>la</th>\n",
       "      <th>le</th>\n",
       "      <th>mange</th>\n",
       "      <th>sont</th>\n",
       "      <th>souris</th>\n",
       "    </tr>\n",
       "  </thead>\n",
       "  <tbody>\n",
       "    <tr>\n",
       "      <th>0</th>\n",
       "      <td>0.000000</td>\n",
       "      <td>0.000000</td>\n",
       "      <td>0.057536</td>\n",
       "      <td>0.000000</td>\n",
       "      <td>0.000000</td>\n",
       "      <td>0.000000</td>\n",
       "      <td>0.000000</td>\n",
       "      <td>0.138629</td>\n",
       "      <td>0.057536</td>\n",
       "      <td>0.138629</td>\n",
       "      <td>0.000000</td>\n",
       "      <td>0.138629</td>\n",
       "    </tr>\n",
       "    <tr>\n",
       "      <th>1</th>\n",
       "      <td>0.000000</td>\n",
       "      <td>0.000000</td>\n",
       "      <td>0.000000</td>\n",
       "      <td>0.000000</td>\n",
       "      <td>0.277259</td>\n",
       "      <td>0.000000</td>\n",
       "      <td>0.277259</td>\n",
       "      <td>0.138629</td>\n",
       "      <td>0.000000</td>\n",
       "      <td>0.138629</td>\n",
       "      <td>0.000000</td>\n",
       "      <td>0.138629</td>\n",
       "    </tr>\n",
       "    <tr>\n",
       "      <th>2</th>\n",
       "      <td>0.000000</td>\n",
       "      <td>0.277259</td>\n",
       "      <td>0.057536</td>\n",
       "      <td>0.138629</td>\n",
       "      <td>0.000000</td>\n",
       "      <td>0.000000</td>\n",
       "      <td>0.000000</td>\n",
       "      <td>0.000000</td>\n",
       "      <td>0.115073</td>\n",
       "      <td>0.000000</td>\n",
       "      <td>0.000000</td>\n",
       "      <td>0.000000</td>\n",
       "    </tr>\n",
       "    <tr>\n",
       "      <th>3</th>\n",
       "      <td>0.198042</td>\n",
       "      <td>0.000000</td>\n",
       "      <td>0.041097</td>\n",
       "      <td>0.099021</td>\n",
       "      <td>0.000000</td>\n",
       "      <td>0.198042</td>\n",
       "      <td>0.000000</td>\n",
       "      <td>0.000000</td>\n",
       "      <td>0.082195</td>\n",
       "      <td>0.000000</td>\n",
       "      <td>0.198042</td>\n",
       "      <td>0.000000</td>\n",
       "    </tr>\n",
       "  </tbody>\n",
       "</table>\n",
       "</div>"
      ],
      "text/plain": [
       "       amis    chasse      chat     chien        du        et   fromage  \\\n",
       "0  0.000000  0.000000  0.057536  0.000000  0.000000  0.000000  0.000000   \n",
       "1  0.000000  0.000000  0.000000  0.000000  0.277259  0.000000  0.277259   \n",
       "2  0.000000  0.277259  0.057536  0.138629  0.000000  0.000000  0.000000   \n",
       "3  0.198042  0.000000  0.041097  0.099021  0.000000  0.198042  0.000000   \n",
       "\n",
       "         la        le     mange      sont    souris  \n",
       "0  0.138629  0.057536  0.138629  0.000000  0.138629  \n",
       "1  0.138629  0.000000  0.138629  0.000000  0.138629  \n",
       "2  0.000000  0.115073  0.000000  0.000000  0.000000  \n",
       "3  0.000000  0.082195  0.000000  0.198042  0.000000  "
      ]
     },
     "execution_count": 7,
     "metadata": {},
     "output_type": "execute_result"
    }
   ],
   "source": [
    "# Calculer la matrice TF-IDF\n",
    "tf_idf = tf * idf\n",
    "tf_idf"
   ]
  },
  {
   "cell_type": "markdown",
   "metadata": {},
   "source": [
    "### III- Word2Vec"
   ]
  },
  {
   "cell_type": "markdown",
   "metadata": {},
   "source": [
    "#### a.CONCEPTS"
   ]
  },
  {
   "cell_type": "markdown",
   "metadata": {},
   "source": [
    "xtf_idf Il capture les relations sémantiques et syntatiques entre les mots; ainsi, les mots ayant des contextes similaires sont proches les uns des autres dans l'espace vectoriel.\n",
    "\n",
    "Pour inclure < du context > à nos mots, on utilise le Word2Vec. "
   ]
  },
  {
   "cell_type": "markdown",
   "metadata": {},
   "source": [
    "Pour ce faire, on a deux stratégies que Word2Vec utilise pour inclure du context: CBOW ET Skig-gram"
   ]
  },
  {
   "cell_type": "markdown",
   "metadata": {},
   "source": [
    "#### Différences"
   ]
  },
  {
   "cell_type": "markdown",
   "metadata": {},
   "source": [
    "CBOW (Continuous Bag of Words) : Ce modèle prédit un mot cible en utilisant les mots contextuels environnants. Par exemple, pour la phrase \"Le chat mange la souris\", le modèle utilise les mots \"Le\", \"mange\", \"la\", et \"souris\" pour prédire le mot \"chat\"."
   ]
  },
  {
   "cell_type": "markdown",
   "metadata": {},
   "source": [
    "Skip-gram : Ce modèle prédit les mots contextuels en utilisant un mot cible. Par exemple, pour la phrase \"Le chat mange la souris\", le modèle utilise le mot \"chat\" pour prédire les mots \"Le\", \"mange\", \"la\", et \"souris\"."
   ]
  },
  {
   "cell_type": "markdown",
   "metadata": {},
   "source": [
    "#### b.DISCUSSION"
   ]
  },
  {
   "cell_type": "markdown",
   "metadata": {},
   "source": [
    "Étant donné un corpus simplifié avec les mots \"chat\", \"mange\", \"souris\", \"fromage\", \"chien\", \"chasse\", \"amis\", voici comment Word2Vec pourrait être utilisé pour représenter ces mots :"
   ]
  },
  {
   "cell_type": "markdown",
   "metadata": {},
   "source": [
    "**importons Word2Vec"
   ]
  },
  {
   "cell_type": "code",
   "execution_count": 22,
   "metadata": {},
   "outputs": [],
   "source": [
    "from gensim.models import Word2Vec\n",
    "import re"
   ]
  },
  {
   "cell_type": "markdown",
   "metadata": {},
   "source": [
    "**Préparation des données"
   ]
  },
  {
   "cell_type": "markdown",
   "metadata": {},
   "source": [
    "Le texte est nettoyé pour enlever la ponctuation et est converti en minuscules."
   ]
  },
  {
   "cell_type": "markdown",
   "metadata": {},
   "source": [
    "Le texte est ensuite tokenisé en mots individuels."
   ]
  },
  {
   "cell_type": "code",
   "execution_count": 10,
   "metadata": {},
   "outputs": [],
   "source": [
    "# Préparation des données : nettoyage et tokenisation\n",
    "def preprocess(document):\n",
    "    # Enlever la ponctuation et convertir en minuscules\n",
    "    document = re.sub(r'[^\\w\\s]', '', document.lower())\n",
    "    # Diviser en mots\n",
    "    return document.split()\n",
    "\n",
    "# Appliquer le prétraitement à tous les documents\n",
    "corpus = [preprocess(doc) for doc in documents]\n"
   ]
  },
  {
   "cell_type": "code",
   "execution_count": 11,
   "metadata": {},
   "outputs": [
    {
     "data": {
      "text/plain": [
       "[['le', 'chat', 'mange', 'la', 'souris'],\n",
       " ['la', 'souris', 'mange', 'du', 'fromage'],\n",
       " ['le', 'chien', 'chasse', 'le', 'chat'],\n",
       " ['le', 'chien', 'et', 'le', 'chat', 'sont', 'amis']]"
      ]
     },
     "execution_count": 11,
     "metadata": {},
     "output_type": "execute_result"
    }
   ],
   "source": [
    "corpus"
   ]
  },
  {
   "cell_type": "markdown",
   "metadata": {},
   "source": [
    "**Entraînement du modèle :"
   ]
  },
  {
   "cell_type": "markdown",
   "metadata": {},
   "source": [
    "Entraînez un modèle Word2Vec sur ce corpus. Le modèle apprendra les vecteurs de mots en utilisant soit CBOW, soit Skip-gram."
   ]
  },
  {
   "cell_type": "markdown",
   "metadata": {},
   "source": [
    "Nous utilisons le modèle Skip-gram (indiqué par sg=1) pour entraîner Word2Vec.\n",
    "vector_size=10 indique que chaque mot sera représenté par un vecteur de 10 dimensions.\n",
    "window=2 indique que nous regardons les deux mots précédents et les deux mots suivants pour chaque mot cible.\n",
    "min_count=1 signifie que les mots apparaissant au moins une fois dans le corpus seront inclus dans le modèle."
   ]
  },
  {
   "cell_type": "code",
   "execution_count": 12,
   "metadata": {},
   "outputs": [],
   "source": [
    "\n",
    "# Entraînement du modèle Word2Vec (Skip-gram)\n",
    "model = Word2Vec(corpus, vector_size=10, window=2, min_count=1, sg=1)\n"
   ]
  },
  {
   "cell_type": "markdown",
   "metadata": {},
   "source": [
    "**Représentation vectorielle "
   ]
  },
  {
   "cell_type": "markdown",
   "metadata": {},
   "source": [
    "Affichage des vecteurs pour les mots \"chat\", \"mange\", \"souris\", \"fromage\", \"chien\", \"chasse\", \"amis\""
   ]
  },
  {
   "cell_type": "code",
   "execution_count": 14,
   "metadata": {},
   "outputs": [
    {
     "name": "stdout",
     "output_type": "stream",
     "text": [
      "Vecteur pour 'chat': [ 0.07380505 -0.01533471 -0.04536613  0.06554051 -0.0486016  -0.01816018\n",
      "  0.0287658   0.00991874 -0.08285215 -0.09448818]\n",
      "Vecteur pour 'mange': [-0.08159707  0.04495902 -0.04136068  0.00822786  0.08498621 -0.04462568\n",
      "  0.04518978 -0.06787878 -0.03548861  0.09398376]\n",
      "Vecteur pour 'souris': [-0.07512054 -0.00929559  0.09537999 -0.07319823 -0.02334933 -0.01936927\n",
      "  0.08078131 -0.05930382  0.00044106 -0.04752245]\n",
      "Vecteur pour 'fromage': [-0.08619688  0.03665738  0.05189884  0.05741938  0.07466918 -0.06167675\n",
      "  0.01105614  0.06047282 -0.0284005  -0.06173522]\n",
      "Vecteur pour 'mange': [ 0.07311766  0.05070262  0.06757693  0.00762866  0.06350891 -0.03405366\n",
      " -0.00946401  0.05768573 -0.07521638 -0.03936104]\n",
      "Vecteur pour 'souris': [ 0.01631476  0.00189917  0.03473637  0.00217777  0.09618826  0.05060603\n",
      " -0.0891739  -0.0704156   0.00901456  0.06392534]\n",
      "Vecteur pour 'fromage': [-0.01577806  0.00321403 -0.04141032 -0.07683435 -0.01508155  0.02470035\n",
      " -0.00888113  0.055342   -0.02743244  0.02260285]\n"
     ]
    }
   ],
   "source": [
    "\n",
    "# Affichage des vecteurs pour quelques mots\n",
    "print(\"Vecteur pour 'chat':\", model.wv['chat'])\n",
    "print(\"Vecteur pour 'mange':\", model.wv['mange'])\n",
    "print(\"Vecteur pour 'souris':\", model.wv['souris'])\n",
    "print(\"Vecteur pour 'fromage':\", model.wv['fromage'])\n",
    "print(\"Vecteur pour 'mange':\", model.wv['chien'])\n",
    "print(\"Vecteur pour 'souris':\", model.wv['chasse'])\n",
    "print(\"Vecteur pour 'fromage':\", model.wv['amis'])"
   ]
  },
  {
   "cell_type": "markdown",
   "metadata": {},
   "source": [
    "Ainsi , Étant donné une formation simplifiée de vecteurs pour les mots \"chat\", \"mange\", \"souris\", \n",
    "\"fromage\", \"chien\", \"chasse\", \"amis\", Word2Vec s'est d'abord entrainé sur ceux ci, et à ensuite représenter les mots sous forme de vecteur; Dans notre cas, chaque mot est représenté par un vecteur de 10 dimenssions."
   ]
  },
  {
   "cell_type": "markdown",
   "metadata": {},
   "source": [
    "#### c. Relations sémantiques potentielles capturées par Word2Vec"
   ]
  },
  {
   "cell_type": "markdown",
   "metadata": {},
   "source": [
    "Les relations sémantiques capturées par Word2Vec peuvent inclure des similarités entre les mots, des analogies et des relations contextuelles. Voici quelques exemples théoriques de vecteurs"
   ]
  },
  {
   "cell_type": "markdown",
   "metadata": {},
   "source": [
    "**similarité"
   ]
  },
  {
   "cell_type": "code",
   "execution_count": 21,
   "metadata": {},
   "outputs": [
    {
     "name": "stdout",
     "output_type": "stream",
     "text": [
      "Similarité entre 'chat' et 'souris': -0.21135573\n",
      "Similarité entre 'chat' et 'chien': 0.32937223\n",
      "Similarité entre 'chat' et 'fromage': 0.033765394\n",
      "Similarité entre 'chat' et 'chasse': -0.51457375\n"
     ]
    }
   ],
   "source": [
    "\n",
    "# Calcul de similarité entre deux mots\n",
    "print(\"Similarité entre 'chat' et 'souris':\", model.wv.similarity('chat', 'souris'))\n",
    "print(\"Similarité entre 'chat' et 'chien':\", model.wv.similarity('chat', 'chien'))\n",
    "print(\"Similarité entre 'chat' et 'fromage':\", model.wv.similarity('chat', 'fromage'))\n",
    "print(\"Similarité entre 'chat' et 'chasse':\", model.wv.similarity('chat', 'chasse'))\n"
   ]
  },
  {
   "cell_type": "markdown",
   "metadata": {},
   "source": [
    "Les mots ayant des contextes similaires auront des vecteurs proches. Par exemple, \"chat\" et \"chien\" ont une similarité de 0.32; ce qui est élevé car ils apparaissent souvent ensemble."
   ]
  },
  {
   "cell_type": "markdown",
   "metadata": {},
   "source": [
    "**Analogie"
   ]
  },
  {
   "cell_type": "code",
   "execution_count": 18,
   "metadata": {},
   "outputs": [
    {
     "name": "stdout",
     "output_type": "stream",
     "text": [
      "Résultat de l'analogie 'chat' - 'souris' + 'fromage': [('chien', 0.5148972272872925), ('le', 0.4949249029159546), ('du', 0.43645399808883667), ('sont', -0.006089991424232721), ('la', -0.08253447711467743), ('mange', -0.14277750253677368), ('et', -0.14503173530101776), ('amis', -0.1780216097831726), ('chasse', -0.24764366447925568)]\n"
     ]
    }
   ],
   "source": [
    "\n",
    "# Opérations vectorielles\n",
    "print(\"Résultat de l'analogie 'chat' - 'souris' + 'fromage':\", model.wv.most_similar(positive=['chat', 'fromage'], negative=['souris']))\n"
   ]
  },
  {
   "cell_type": "markdown",
   "metadata": {},
   "source": [
    "Word2Vec permet de faire des analogies en utilisant des opérations vectorielles. Par exemple : chat - souris + fromache donne chien."
   ]
  },
  {
   "cell_type": "markdown",
   "metadata": {},
   "source": [
    "**Visualisation :\n",
    "\n",
    "Les vecteurs peuvent être visualisés dans un espace de dimension réduite (par exemple, en utilisant PCA ou t-SNE) pour voir les relations entre les mots. Les mots ayant des relations sémantiques similaires seront regroupés."
   ]
  },
  {
   "cell_type": "markdown",
   "metadata": {},
   "source": [
    "## GloVe"
   ]
  },
  {
   "cell_type": "markdown",
   "metadata": {},
   "source": [
    "\n",
    "a. Concept de GloVe et Différences avec Word2Vec"
   ]
  },
  {
   "cell_type": "markdown",
   "metadata": {},
   "source": [
    "GloVe (Global Vectors for Word Representation) est une méthode utilisée pour représenter des mots sous forme de vecteurs, qui capturent les significations des mots en fonction de leur contexte global dans un corpus de texte."
   ]
  },
  {
   "cell_type": "markdown",
   "metadata": {},
   "source": [
    "***Différences entre GloVe et Word2Vec"
   ]
  },
  {
   "cell_type": "markdown",
   "metadata": {},
   "source": [
    "Word2Vec :\n",
    "\n",
    "Utilise deux modèles principaux : CBOW (Continuous Bag of Words) et Skip-gram.\n",
    "CBOW : Prédit un mot cible en utilisant les mots environnants.\n",
    "Skip-gram : Prédit les mots environnants en utilisant un mot cible.\n",
    "Fonctionne de manière locale, c’est-à-dire qu'il regarde les mots proches les uns des autres dans les phrases pour former les vecteurs."
   ]
  },
  {
   "cell_type": "markdown",
   "metadata": {},
   "source": [
    "GloVe :\n",
    "\n",
    "Utilise une matrice de co-occurrence des mots dans tout le corpus.\n",
    "La matrice de co-occurrence compte combien de fois un mot apparaît à côté d'un autre mot dans le corpus entier.\n",
    "Utilise ces co-occurrences pour factoriser la matrice et créer des vecteurs de mots.\n",
    "Fonctionne de manière globale, prenant en compte les relations entre tous les mots du corpus entier."
   ]
  },
  {
   "cell_type": "markdown",
   "metadata": {},
   "source": [
    "b. Construction des Vecteurs GloVe à partir des Co-occurrences"
   ]
  },
  {
   "cell_type": "markdown",
   "metadata": {},
   "source": [
    "Matrice de Co-occurrence :\n",
    "\n",
    "Créer une matrice où chaque ligne et colonne représente un mot, et chaque valeur indique combien de fois les mots apparaissent ensemble dans le corpus. Par exemple, si \"chat\" et \"souris\" apparaissent souvent ensemble, la valeur dans la matrice sera élevée pour ces mots.\n",
    "\n",
    "Factorisation de la Matrice :\n",
    "\n",
    "Utiliser une technique mathématique pour décomposer cette matrice en vecteurs de mots. Cela implique de trouver des vecteurs de dimensions plus petites qui capturent les relations entre les mots de manière efficace.\n",
    "Optimisation :\n",
    "\n",
    "Minimiser une fonction de coût qui compare les valeurs de co-occurrence réelles avec les valeurs prédites par les vecteurs. Cela ajuste les vecteurs pour qu'ils capturent au mieux les relations de co-occurrence."
   ]
  },
  {
   "cell_type": "markdown",
   "metadata": {},
   "source": [
    "c. Illustration Théorique de GloVe"
   ]
  },
  {
   "cell_type": "markdown",
   "metadata": {},
   "source": [
    "Exemple Simplifié :\n",
    "Considérons un corpus très simple avec les phrases suivantes :\n",
    "\n",
    "\"Le chat mange la souris.\"\n",
    "\"La souris mange du fromage.\"\n",
    "\"Le chien chasse le chat.\"\n",
    "\"Le chien et le chat sont amis.\""
   ]
  },
  {
   "cell_type": "markdown",
   "metadata": {},
   "source": [
    "1. Matrice de Co-occurrence\n"
   ]
  },
  {
   "cell_type": "markdown",
   "metadata": {},
   "source": [
    "|        | chat | mange | souris | fromage | chien | chasse | amis |\n",
    "|--------|------|-------|--------|---------|-------|--------|------|\n",
    "| chat   | 0    | 2     | 1      | 0       | 1     | 0      | 1    |\n",
    "| mange  | 2    | 0     | 1      | 1       | 0     | 0      | 0    |\n",
    "| souris | 1    | 1     | 0      | 1       | 0     | 0      | 0    |\n",
    "| fromage| 0    | 1     | 1      | 0       | 0     | 0      | 0    |\n",
    "| chien  | 1    | 0     | 0      | 0       | 0     | 1      | 0    |\n",
    "| chasse | 0    | 0     | 0      | 0       | 1     | 0      | 0    |\n",
    "| amis   | 1    | 0     | 0      | 0       | 0     | 0      | 0    |\n"
   ]
  },
  {
   "cell_type": "markdown",
   "metadata": {},
   "source": [
    "2. Factorisation de la Matrice\n",
    "\n",
    "En utilisant une technique mathématique pour décomposer cette matrice, nous obtenons des vecteurs pour chaque mot. \n",
    "\n",
    "Par exemple :\n",
    "\"chat\" : [0.5, 0.2, 0.1]\n",
    "\n",
    "\"mange\" : [0.4, 0.3, 0.2]\n",
    "\n",
    "\"souris\" : [0.6, 0.1, 0.1]\n",
    "\n",
    "\"fromage\" : [0.1, 0.7, 0.3]"
   ]
  },
  {
   "cell_type": "markdown",
   "metadata": {},
   "source": [
    "3. Relations Capturées par GloVe\n",
    "\n",
    "Les vecteurs capturent les relations sémantiques et contextuelles des mots.\n",
    "\n",
    "Similarité : Les mots souvent utilisés ensemble ont des vecteurs similaires. Par exemple, \"chat\" et \"souris\" pourraient avoir des vecteurs proches car ils apparaissent souvent ensemble.\n",
    "\n",
    "Analogie : Les opérations vectorielles peuvent révéler des relations. Par exemple, vect(\"chat\") - vect(\"souris\") + vect(\"fromage\") pourrait être proche de vect(\"mange\"), ce qui montre une relation entre ces mots.\n",
    "\n",
    "Conclusion\n",
    "\n",
    "GloVe utilise une approche globale pour capturer les relations sémantiques et contextuelles entre les mots, en se basant sur les co-occurrences dans l'ensemble du corpus. Contrairement à Word2Vec qui se concentre sur les prédictions locales, GloVe fournit des vecteurs de mots en tenant compte de la matrice de co-occurrence globale, permettant ainsi de capturer des relations plus riches entre les mots."
   ]
  },
  {
   "cell_type": "markdown",
   "metadata": {},
   "source": [
    "## EXERCICE 2"
   ]
  },
  {
   "cell_type": "markdown",
   "metadata": {},
   "source": [
    "1. Schématiser 𝑋2=𝑓(𝑋1)"
   ]
  },
  {
   "cell_type": "markdown",
   "metadata": {},
   "source": [
    "Pour schématiser nous allons tracer un graphique des points représentant chaque mot dans le plan (X1, X2). "
   ]
  },
  {
   "cell_type": "code",
   "execution_count": 4,
   "metadata": {},
   "outputs": [
    {
     "data": {
      "image/png": "[encoded data removed]",
      "text/plain": [
       "<Figure size 1000x600 with 1 Axes>"
      ]
     },
     "metadata": {},
     "output_type": "display_data"
    }
   ],
   "source": [
    "import matplotlib.pyplot as plt\n",
    "\n",
    "# Données des mots et leurs coordonnées\n",
    "words = [\"Aime\", \"Malade\", \"Positive\", \"Pessimiste\", \"Heureux\", \"Amour\", \"Negative\", \"Mort\", \"Argent\", \"Optimiste\", \"Pauvre\", \"nulle\"]\n",
    "x1 = [0.2, -0.3, 0.3, 0.1, 0.2, 0.7, -0.2, 0, 0.5, 0.3, -0.3, -0.2]\n",
    "x2 = [-0.1, 0.3, 0.1, 0, -0.4, 0.1, 0.1, 0.6, 0.2, -0.5, 0.5, 0.3]\n",
    "\n",
    "# Création du graphique\n",
    "plt.figure(figsize=(10, 6))\n",
    "plt.scatter(x1, x2, color='blue')\n",
    "\n",
    "# Ajout des labels des mots\n",
    "for i, word in enumerate(words):\n",
    "    plt.annotate(word, (x1[i], x2[i]))\n",
    "\n",
    "\n",
    "# Axes et titre\n",
    "plt.axhline(0, color='gray', linewidth=0.5)\n",
    "plt.axvline(0, color='gray', linewidth=0.5)\n",
    "plt.xlabel('X1')\n",
    "plt.ylabel('X2')\n",
    "plt.title('Schéma de X2 en fonction de X1')\n",
    "\n",
    "# Affichage du graphique\n",
    "plt.grid(True)\n",
    "plt.show()\n"
   ]
  },
  {
   "cell_type": "markdown",
   "metadata": {},
   "source": [
    "2. Tracer la ligne du modèle 𝑋2=0"
   ]
  },
  {
   "cell_type": "markdown",
   "metadata": {},
   "source": [
    "Le modèle obtenu après l'entraînement indique que 𝑋2=0 quelle que soit la valeur de X1. Pour tracer cette ligne, nous ajoutons une ligne horizontale à 𝑋2=0X2=0 dans le graphique précédent."
   ]
  },
  {
   "cell_type": "code",
   "execution_count": 5,
   "metadata": {},
   "outputs": [
    {
     "data": {
      "image/png": "[encoded data removed]",
      "text/plain": [
       "<Figure size 1000x600 with 1 Axes>"
      ]
     },
     "metadata": {},
     "output_type": "display_data"
    }
   ],
   "source": [
    "# Ajout de la ligne du modèle X2 = 0\n",
    "plt.figure(figsize=(10, 6))\n",
    "plt.scatter(x1, x2, color='blue')\n",
    "\n",
    "for i, word in enumerate(words):\n",
    "    plt.annotate(word, (x1[i], x2[i]))\n",
    "\n",
    "plt.axhline(0, color='red', linestyle='--', label='X2 = 0')\n",
    "plt.axvline(0, color='gray', linewidth=0.5)\n",
    "plt.xlabel('X1')\n",
    "plt.ylabel('X2')\n",
    "plt.title('Schéma de X2 en fonction de X1 avec le modèle X2 = 0')\n",
    "plt.legend()\n",
    "plt.grid(True)\n",
    "plt.show()\n"
   ]
  },
  {
   "cell_type": "markdown",
   "metadata": {},
   "source": [
    "3. Trouver la matrice de confusion du modèle"
   ]
  },
  {
   "cell_type": "markdown",
   "metadata": {},
   "source": [
    "Pour construire la matrice de confusion, nous devons d'abord définir les classes. Supposons que nous voulons classifier les mots en deux classes :\n",
    "\n",
    "Classe 1 (positif) : 𝑋2≥0\n",
    "\n",
    "Classe 2 (négatif) : 𝑋2<0\n",
    "\n",
    "Nous devons comparer les classifications réelles avec celles prédites par le modèle 𝑋2=0."
   ]
  },
  {
   "cell_type": "code",
   "execution_count": 6,
   "metadata": {},
   "outputs": [
    {
     "name": "stdout",
     "output_type": "stream",
     "text": [
      "Matrice de confusion :\n",
      "         positif  négatif\n",
      "positif        1        8\n",
      "négatif        0        3\n"
     ]
    }
   ],
   "source": [
    "import pandas as pd\n",
    "from sklearn.metrics import confusion_matrix, classification_report\n",
    "\n",
    "# Labels réels basés sur X2\n",
    "true_labels = ['positif' if x >= 0 else 'négatif' for x in x2]\n",
    "\n",
    "# Labels prédits par le modèle (X2 = 0)\n",
    "pred_labels = ['positif' if x == 0 else 'négatif' for x in x2]\n",
    "\n",
    "# Calcul de la matrice de confusion\n",
    "conf_matrix = confusion_matrix(true_labels, pred_labels, labels=[\"positif\", \"négatif\"])\n",
    "conf_matrix_df = pd.DataFrame(conf_matrix, index=[\"positif\", \"négatif\"], columns=[\"positif\", \"négatif\"])\n",
    "print(\"Matrice de confusion :\")\n",
    "print(conf_matrix_df)\n"
   ]
  },
  {
   "cell_type": "markdown",
   "metadata": {},
   "source": [
    "4. Calculer les métriques de performance"
   ]
  },
  {
   "cell_type": "code",
   "execution_count": 7,
   "metadata": {},
   "outputs": [
    {
     "name": "stdout",
     "output_type": "stream",
     "text": [
      "Rapport de classification :\n",
      "              precision    recall  f1-score   support\n",
      "\n",
      "     positif       0.27      1.00      0.43         3\n",
      "     négatif       1.00      0.11      0.20         9\n",
      "\n",
      "    accuracy                           0.33        12\n",
      "   macro avg       0.64      0.56      0.31        12\n",
      "weighted avg       0.82      0.33      0.26        12\n",
      "\n"
     ]
    }
   ],
   "source": [
    "# Calcul des métriques\n",
    "report = classification_report(true_labels, pred_labels, target_names=[\"positif\", \"négatif\"])\n",
    "print(\"Rapport de classification :\")\n",
    "print(report)\n"
   ]
  },
  {
   "cell_type": "markdown",
   "metadata": {},
   "source": [
    "5. Proposer un modèle parfait"
   ]
  },
  {
   "cell_type": "markdown",
   "metadata": {},
   "source": [
    "Un modèle avec des métriques de performance à 100 % signifie qu'il n'y a ni faux positifs ni faux négatifs. Cela peut être obtenu par un modèle qui prédit parfaitement toutes les classes.\n",
    "\n",
    "Si nous considérons une classification parfaite basée sur nos données :\n",
    "\n",
    "Si 𝑋2≥0, prédire \"positif\".\n",
    "\n",
    "Si 𝑋2<0, prédire \"négatif\"."
   ]
  },
  {
   "cell_type": "code",
   "execution_count": 8,
   "metadata": {},
   "outputs": [
    {
     "name": "stdout",
     "output_type": "stream",
     "text": [
      "Matrice de confusion parfaite :\n",
      "         positif  négatif\n",
      "positif        9        0\n",
      "négatif        0        3\n",
      "Rapport de classification parfait :\n",
      "              precision    recall  f1-score   support\n",
      "\n",
      "     positif       1.00      1.00      1.00         3\n",
      "     négatif       1.00      1.00      1.00         9\n",
      "\n",
      "    accuracy                           1.00        12\n",
      "   macro avg       1.00      1.00      1.00        12\n",
      "weighted avg       1.00      1.00      1.00        12\n",
      "\n"
     ]
    }
   ],
   "source": [
    "# Labels prédits parfaits\n",
    "perfect_pred_labels = ['positif' if x >= 0 else 'négatif' for x in x2]\n",
    "\n",
    "# Calcul de la matrice de confusion pour le modèle parfait\n",
    "perfect_conf_matrix = confusion_matrix(true_labels, perfect_pred_labels, labels=[\"positif\", \"négatif\"])\n",
    "perfect_conf_matrix_df = pd.DataFrame(perfect_conf_matrix, index=[\"positif\", \"négatif\"], columns=[\"positif\", \"négatif\"])\n",
    "print(\"Matrice de confusion parfaite :\")\n",
    "print(perfect_conf_matrix_df)\n",
    "\n",
    "# Calcul des métriques pour le modèle parfait\n",
    "perfect_report = classification_report(true_labels, perfect_pred_labels, target_names=[\"positif\", \"négatif\"])\n",
    "print(\"Rapport de classification parfait :\")\n",
    "print(perfect_report)\n"
   ]
  },
  {
   "cell_type": "markdown",
   "metadata": {},
   "source": [
    "Exercice 3: LSTM et Embeddings pour la Prédiction de Mot"
   ]
  },
  {
   "cell_type": "markdown",
   "metadata": {},
   "source": [
    "1. Préparation des Données\n",
    "Phrase donnée: \"Le chat mange la souris.\"\n",
    "\n",
    "Tokenisation:"
   ]
  },
  {
   "cell_type": "code",
   "execution_count": 9,
   "metadata": {},
   "outputs": [
    {
     "name": "stdout",
     "output_type": "stream",
     "text": [
      "['le', 'chat', 'mange', 'la', 'souris.']\n"
     ]
    }
   ],
   "source": [
    "sentence = \"Le chat mange la souris.\"\n",
    "tokens = sentence.lower().split()  # Tokenisation\n",
    "print(tokens)  \n"
   ]
  },
  {
   "cell_type": "markdown",
   "metadata": {},
   "source": [
    "2. Construction du Vocabulaire\n",
    "Création du vocabulaire et assignation d'index:"
   ]
  },
  {
   "cell_type": "code",
   "execution_count": 10,
   "metadata": {},
   "outputs": [
    {
     "name": "stdout",
     "output_type": "stream",
     "text": [
      "{'le': 0, 'chat': 1, 'mange': 2, 'la': 3, 'souris.': 4}\n"
     ]
    }
   ],
   "source": [
    "vocabulary = {word: index for index, word in enumerate(tokens)}\n",
    "print(vocabulary)  \n"
   ]
  },
  {
   "cell_type": "markdown",
   "metadata": {},
   "source": [
    "3. Encodage des Séquences\n",
    "Encodage de la séquence d'entrée et du mot à prédire:"
   ]
  },
  {
   "cell_type": "code",
   "execution_count": 11,
   "metadata": {},
   "outputs": [
    {
     "name": "stdout",
     "output_type": "stream",
     "text": [
      "[0, 1, 2, 3]\n",
      "4\n"
     ]
    }
   ],
   "source": [
    "input_sequence = [vocabulary[word] for word in tokens[:-1]]  # \"Le chat mange la\"\n",
    "output_word = vocabulary[tokens[-1]]  # \"souris\"\n",
    "print(input_sequence)  # Output: [0, 1, 2, 3]\n",
    "print(output_word)  # Output: 4\n"
   ]
  },
  {
   "cell_type": "markdown",
   "metadata": {},
   "source": [
    "4. Embedding des Mots\n",
    "Assignation de vecteurs d'embedding initiaux:"
   ]
  },
  {
   "cell_type": "code",
   "execution_count": 12,
   "metadata": {},
   "outputs": [],
   "source": [
    "embedding_dict = {\n",
    "    'le': [0.1, 0.2, 0.3],\n",
    "    'chat': [0.4, 0.5, 0.6],\n",
    "    'mange': [0.7, 0.8, 0.9],\n",
    "    'la': [0.1, 0.4, 0.7],\n",
    "    'souris': [0.2, 0.5, 0.8]\n",
    "}\n"
   ]
  },
  {
   "cell_type": "markdown",
   "metadata": {},
   "source": [
    "Transformation de la séquence d'entrée en vecteurs d'embedding:"
   ]
  },
  {
   "cell_type": "code",
   "execution_count": 13,
   "metadata": {},
   "outputs": [
    {
     "name": "stdout",
     "output_type": "stream",
     "text": [
      "[[0.1, 0.2, 0.3], [0.4, 0.5, 0.6], [0.7, 0.8, 0.9], [0.1, 0.4, 0.7]]\n"
     ]
    }
   ],
   "source": [
    "input_embeddings = [embedding_dict[word] for word in tokens[:-1]]\n",
    "print(input_embeddings)\n",
    "# Output: [[0.1, 0.2, 0.3], [0.4, 0.5, 0.6], [0.7, 0.8, 0.9], [0.1, 0.4, 0.7]]\n"
   ]
  },
  {
   "cell_type": "markdown",
   "metadata": {},
   "source": [
    "5. Passage à travers le LSTM\n",
    "\n",
    "Description du passage à travers les cellules LSTM:"
   ]
  },
  {
   "cell_type": "markdown",
   "metadata": {},
   "source": [
    "Chaque vecteur d'embedding est traité séquentiellement par le LSTM, qui met à jour ses états cachés et mémoires à chaque étape pour capturer les dépendances temporelles."
   ]
  },
  {
   "cell_type": "markdown",
   "metadata": {},
   "source": [
    "6. Sortie du LSTM"
   ]
  },
  {
   "cell_type": "markdown",
   "metadata": {},
   "source": [
    "La sortie finale du LSTM pour la séquence \"Le chat mange la\" est un vecteur de dimension égale à la taille de l'état caché, noté ℎ_𝑡."
   ]
  },
  {
   "cell_type": "markdown",
   "metadata": {},
   "source": [
    "7. Calcul de la Probabilité du Mot Suivant\n",
    "\n",
    "Multiplication par la matrice de poids et passage à travers une fonction softmax:"
   ]
  },
  {
   "cell_type": "code",
   "execution_count": 16,
   "metadata": {},
   "outputs": [
    {
     "name": "stdout",
     "output_type": "stream",
     "text": [
      "[0.07297208 0.05974449 0.41992533 0.34380579 0.10355231]\n"
     ]
    }
   ],
   "source": [
    "import numpy as np\n",
    "\n",
    "W = np.array([\n",
    "    [0.1, 0.2, 0.3, 0.4, 0.5],\n",
    "    [0.5, 0.4, 0.3, 0.2, 0.1],\n",
    "    [0.6, 0.7, 0.8, 0.9, 1.0],\n",
    "    [1.0, 0.9, 0.8, 0.7, 0.6],\n",
    "    [0.2, 0.3, 0.4, 0.5, 0.6]\n",
    "])\n",
    "ht = np.array([0.5, 0.6, 0.7, 0.8, 0.9])\n",
    "\n",
    "# Calcul de la distribution de probabilité\n",
    "logits = np.dot(W, ht)\n",
    "probabilities = np.exp(logits) / np.sum(np.exp(logits))\n",
    "print(probabilities)  # Distribution de probabilité sur le vocabulaire\n",
    "\n"
   ]
  },
  {
   "cell_type": "markdown",
   "metadata": {},
   "source": [
    "8. Prédiction\n",
    "Prédiction du mot suivant avec la plus haute probabilité:"
   ]
  },
  {
   "cell_type": "code",
   "execution_count": 17,
   "metadata": {},
   "outputs": [
    {
     "name": "stdout",
     "output_type": "stream",
     "text": [
      "mange\n"
     ]
    }
   ],
   "source": [
    "predicted_index = np.argmax(probabilities)\n",
    "predicted_word = [word for word, index in vocabulary.items() if index == predicted_index][0]\n",
    "print(predicted_word)  # Vérifions la prédiction\n",
    "\n"
   ]
  },
  {
   "cell_type": "markdown",
   "metadata": {},
   "source": [
    "Réajustons les poids pour nous assurer que la prédiction soit correcte."
   ]
  },
  {
   "cell_type": "code",
   "execution_count": 23,
   "metadata": {},
   "outputs": [
    {
     "name": "stdout",
     "output_type": "stream",
     "text": [
      "mange\n"
     ]
    }
   ],
   "source": [
    "W_adjusted = np.array([\n",
    "    [0.1, 0.2, 0.3, 0.4, 0.5],\n",
    "    [0.5, 0.4, 0.3, 0.2, 0.1],\n",
    "    [0.6, 0.7, 0.8, 0.9, 1.0],\n",
    "    [1.0, 0.9, 0.8, 0.7, 0.6],\n",
    "    [0.4, 0.3, 0.2, 0.1, 0.1]  # Ajustement pour 'souris'\n",
    "])\n",
    "logits_adjusted = np.dot(W_adjusted, ht)\n",
    "probabilities_adjusted = np.exp(logits_adjusted) / np.sum(np.exp(logits_adjusted))\n",
    "predicted_index_adjusted = np.argmax(probabilities_adjusted)\n",
    "predicted_word_adjusted = [word for word, index in vocabulary.items() if index == predicted_index_adjusted][0]\n",
    "print(predicted_word_adjusted)  # Idéalement 'souris'\n"
   ]
  },
  {
   "cell_type": "markdown",
   "metadata": {},
   "source": [
    "Questions Théoriques"
   ]
  },
  {
   "cell_type": "markdown",
   "metadata": {},
   "source": [
    "1.Pourquoi utilise-t-on des embeddings pour représenter les mots ?\n",
    "\n",
    "Les embeddings transforment des mots en vecteurs de nombres réels, capturant des relations sémantiques et contextuelles dans un espace de dimension réduite. Ils permettent de représenter des mots similaires de manière proche dans cet espace, facilitant les tâches de traitement du langage naturel.\n"
   ]
  },
  {
   "cell_type": "markdown",
   "metadata": {},
   "source": [
    "\n",
    "2. Comment le LSTM aide-t-il à capturer les dépendances à long terme dans une séquence de mots ?\n",
    "\n",
    "Le LSTM utilise des états de cellules et des mécanismes de portes (entrée, sortie, oubli) pour réguler le flux d'information à travers la séquence. Cela permet de conserver et de transmettre des informations importantes sur de longues distances, capturant ainsi des dépendances à long terme.\n"
   ]
  },
  {
   "cell_type": "markdown",
   "metadata": {},
   "source": [
    "\n",
    "3. Quelle est la fonction de la couche softmax à la sortie du modèle ?\n",
    "\n",
    "La couche softmax transforme les logits en une distribution de probabilité, où chaque valeur représente la probabilité d'un mot du vocabulaire d'être le mot suivant dans la séquence.\n"
   ]
  },
  {
   "cell_type": "markdown",
   "metadata": {},
   "source": [
    "\n",
    "4. Quels sont les avantages et les limitations des LSTM par rapport aux RNN traditionnels ?\n",
    "\n",
    "Avantages : Les LSTM peuvent mieux gérer les dépendances à long terme grâce à leurs mécanismes de portes, évitant ainsi les problèmes de gradient qui disparaît ou explose dans les RNN traditionnels.\n",
    "\n",
    "Limitations : Les LSTM sont plus complexes et plus coûteux en termes de calcul par rapport aux RNN traditionnels.\n"
   ]
  },
  {
   "cell_type": "markdown",
   "metadata": {},
   "source": [
    "\n",
    "5. Comment améliorer la qualité des embeddings de mots dans ce contexte ?\n",
    "\n",
    "Utiliser des corpus plus larges et diversifiés pour entraîner les embeddings.\n",
    "Appliquer des techniques de régularisation comme le dropout.\n",
    "Entraîner les embeddings conjointement avec le modèle LSTM pour qu'ils soient optimisés pour la tâche spécifique.\n",
    "Utiliser des méthodes de pré-entraînement avancées comme Word2Vec, GloVe, ou des modèles de transformeurs comme BERT pour des représentations de mots plus riches et contextuellement informées."
   ]
  },
  {
   "cell_type": "markdown",
   "metadata": {},
   "source": [
    "4."
   ]
  },
  {
   "cell_type": "markdown",
   "metadata": {},
   "source": [
    "Étape 1: Préparation des Données\n",
    "Nous allons diviser chaque phrase en mots (tokenisation)."
   ]
  },
  {
   "cell_type": "code",
   "execution_count": 1,
   "metadata": {},
   "outputs": [
    {
     "name": "stdout",
     "output_type": "stream",
     "text": [
      "[(['i', 'love', 'programming'], '+'), (['python', 'is', 'great'], '+'), (['i', 'hate', 'bugs'], '-'), (['debugging', 'is', 'fun'], '+'), (['i', 'enjoy', 'learning', 'new', 'things'], '+'), (['i', 'love', 'python'], '?')]\n"
     ]
    }
   ],
   "source": [
    "import numpy as np\n",
    "from collections import defaultdict\n",
    "\n",
    "# Données\n",
    "data = [\n",
    "    (\"I love programming\", \"+\"),\n",
    "    (\"Python is great\", \"+\"),\n",
    "    (\"I hate bugs\", \"-\"),\n",
    "    (\"Debugging is fun\", \"+\"),\n",
    "    (\"I enjoy learning new things\", \"+\"),\n",
    "    (\"I love python\", \"?\")\n",
    "]\n",
    "\n",
    "# Tokenisation\n",
    "tokenized_data = [(sentence.lower().split(), label) for sentence, label in data]\n",
    "print(tokenized_data)\n"
   ]
  },
  {
   "cell_type": "markdown",
   "metadata": {},
   "source": [
    "Étape 2: Construction du Vocabulaire\n",
    "Nous allons créer un vocabulaire unique à partir de tous les mots présents dans les phrases."
   ]
  },
  {
   "cell_type": "code",
   "execution_count": 2,
   "metadata": {},
   "outputs": [
    {
     "name": "stdout",
     "output_type": "stream",
     "text": [
      "['new', 'enjoy', 'i', 'is', 'bugs', 'learning', 'things', 'programming', 'hate', 'great', 'debugging', 'fun', 'python', 'love']\n"
     ]
    }
   ],
   "source": [
    "vocabulary = set(word for sentence, _ in tokenized_data for word in sentence)\n",
    "vocabulary = list(vocabulary)\n",
    "print(vocabulary)\n"
   ]
  },
  {
   "cell_type": "markdown",
   "metadata": {},
   "source": [
    "Étape 3: Calcul des Probabilités A Priori\n",
    "\n",
    "Nous calculons la probabilité a priori de chaque classe (positive ou négative)."
   ]
  },
  {
   "cell_type": "code",
   "execution_count": 3,
   "metadata": {},
   "outputs": [
    {
     "name": "stdout",
     "output_type": "stream",
     "text": [
      "{'+': 0.8, '-': 0.2}\n"
     ]
    }
   ],
   "source": [
    "labels = [label for _, label in tokenized_data if label != \"?\"]\n",
    "class_counts = defaultdict(int)\n",
    "for label in labels:\n",
    "    class_counts[label] += 1\n",
    "\n",
    "total_count = len(labels)\n",
    "prior_probabilities = {label: count / total_count for label, count in class_counts.items()}\n",
    "print(prior_probabilities)\n"
   ]
  },
  {
   "cell_type": "markdown",
   "metadata": {},
   "source": [
    "Étape 4: Calcul des Probabilités Conditionnelles\n",
    "Nous calculons la probabilité conditionnelle de chaque mot donné une classe en utilisant la Laplace smoothing."
   ]
  },
  {
   "cell_type": "code",
   "execution_count": 4,
   "metadata": {},
   "outputs": [
    {
     "name": "stdout",
     "output_type": "stream",
     "text": [
      "{'+': defaultdict(<class 'float'>, {'new': 0.07142857142857142, 'enjoy': 0.07142857142857142, 'i': 0.10714285714285714, 'is': 0.10714285714285714, 'bugs': 0.03571428571428571, 'learning': 0.07142857142857142, 'things': 0.07142857142857142, 'programming': 0.07142857142857142, 'hate': 0.03571428571428571, 'great': 0.07142857142857142, 'debugging': 0.07142857142857142, 'fun': 0.07142857142857142, 'python': 0.07142857142857142, 'love': 0.07142857142857142}), '-': defaultdict(<class 'float'>, {'new': 0.058823529411764705, 'enjoy': 0.058823529411764705, 'i': 0.11764705882352941, 'is': 0.058823529411764705, 'bugs': 0.11764705882352941, 'learning': 0.058823529411764705, 'things': 0.058823529411764705, 'programming': 0.058823529411764705, 'hate': 0.11764705882352941, 'great': 0.058823529411764705, 'debugging': 0.058823529411764705, 'fun': 0.058823529411764705, 'python': 0.058823529411764705, 'love': 0.058823529411764705})}\n"
     ]
    }
   ],
   "source": [
    "word_counts = {label: defaultdict(int) for label in class_counts}\n",
    "for sentence, label in tokenized_data:\n",
    "    if label == \"?\":\n",
    "        continue\n",
    "    for word in sentence:\n",
    "        word_counts[label][word] += 1\n",
    "\n",
    "# Laplace smoothing\n",
    "vocab_size = len(vocabulary)\n",
    "conditional_probabilities = {label: defaultdict(float) for label in class_counts}\n",
    "for label, words in word_counts.items():\n",
    "    total_words = sum(words.values())\n",
    "    for word in vocabulary:\n",
    "        conditional_probabilities[label][word] = (words[word] + 1) / (total_words + vocab_size)\n",
    "\n",
    "print(conditional_probabilities)\n"
   ]
  },
  {
   "cell_type": "markdown",
   "metadata": {},
   "source": [
    "Étape 5: Classification de Nouvelles Phrases\n",
    "Pour une nouvelle phrase, nous allons calculer les probabilités et choisir la classe avec la probabilité la plus élevée."
   ]
  },
  {
   "cell_type": "code",
   "execution_count": 5,
   "metadata": {},
   "outputs": [
    {
     "name": "stdout",
     "output_type": "stream",
     "text": [
      "The predicted class for 'I love python' is '+'\n"
     ]
    }
   ],
   "source": [
    "def classify(sentence, prior_probabilities, conditional_probabilities, vocabulary):\n",
    "    words = sentence.lower().split()\n",
    "    class_scores = {label: np.log(prior_prob) for label, prior_prob in prior_probabilities.items()}\n",
    "    \n",
    "    for word in words:\n",
    "        if word in vocabulary:\n",
    "            for label in class_scores:\n",
    "                class_scores[label] += np.log(conditional_probabilities[label][word])\n",
    "    \n",
    "    return max(class_scores, key=class_scores.get)\n",
    "\n",
    "new_sentence = \"I love python\"\n",
    "predicted_class = classify(new_sentence, prior_probabilities, conditional_probabilities, vocabulary)\n",
    "print(f\"The predicted class for '{new_sentence}' is '{predicted_class}'\")\n"
   ]
  },
  {
   "cell_type": "markdown",
   "metadata": {},
   "source": [
    "Modèle de Deep Learning"
   ]
  },
  {
   "cell_type": "markdown",
   "metadata": {},
   "source": [
    "Préparation des Données pour le Deep Learning"
   ]
  },
  {
   "cell_type": "code",
   "execution_count": 12,
   "metadata": {},
   "outputs": [
    {
     "ename": "ModuleNotFoundError",
     "evalue": "No module named 'keras.preprocessing.text'",
     "output_type": "error",
     "traceback": [
      "\u001b[1;31m---------------------------------------------------------------------------\u001b[0m",
      "\u001b[1;31mModuleNotFoundError\u001b[0m                       Traceback (most recent call last)",
      "Cell \u001b[1;32mIn[12], line 1\u001b[0m\n\u001b[1;32m----> 1\u001b[0m \u001b[38;5;28;01mfrom\u001b[39;00m \u001b[38;5;21;01mkeras\u001b[39;00m\u001b[38;5;21;01m.\u001b[39;00m\u001b[38;5;21;01mpreprocessing\u001b[39;00m\u001b[38;5;21;01m.\u001b[39;00m\u001b[38;5;21;01mtext\u001b[39;00m \u001b[38;5;28;01mimport\u001b[39;00m Tokenizer\n\u001b[0;32m      2\u001b[0m \u001b[38;5;28;01mfrom\u001b[39;00m \u001b[38;5;21;01mkeras\u001b[39;00m\u001b[38;5;21;01m.\u001b[39;00m\u001b[38;5;21;01mpreprocessing\u001b[39;00m\u001b[38;5;21;01m.\u001b[39;00m\u001b[38;5;21;01msequence\u001b[39;00m \u001b[38;5;28;01mimport\u001b[39;00m pad_sequences\n\u001b[0;32m      3\u001b[0m \u001b[38;5;28;01mfrom\u001b[39;00m \u001b[38;5;21;01mkeras\u001b[39;00m\u001b[38;5;21;01m.\u001b[39;00m\u001b[38;5;21;01mmodels\u001b[39;00m \u001b[38;5;28;01mimport\u001b[39;00m Sequential\n",
      "\u001b[1;31mModuleNotFoundError\u001b[0m: No module named 'keras.preprocessing.text'"
     ]
    }
   ],
   "source": [
    "from keras.preprocessing.text import Tokenizer\n",
    "from keras.preprocessing.sequence import pad_sequences\n",
    "from keras.models import Sequential\n",
    "from keras.layers import Embedding, LSTM, Dense, SpatialDropout1D\n",
    "from sklearn.preprocessing import LabelEncoder\n",
    "\n",
    "# Textes et étiquettes\n",
    "texts = [sentence for sentence, label in data if label != \"?\"]\n",
    "labels = [label for sentence, label in data if label != \"?\"]\n",
    "\n",
    "# Tokenisation et séquencage\n",
    "tokenizer = Tokenizer()\n",
    "tokenizer.fit_on_texts(texts)\n",
    "X = tokenizer.texts_to_sequences(texts)\n",
    "X = pad_sequences(X)\n",
    "\n",
    "# Encodage des étiquettes\n",
    "label_encoder = LabelEncoder()\n",
    "y = label_encoder.fit_transform(labels)\n",
    "\n",
    "# Paramètres\n",
    "vocab_size = len(tokenizer.word_index) + 1\n",
    "max_length = X.shape[1]\n",
    "\n",
    "# Modèle\n",
    "model = Sequential()\n",
    "model.add(Embedding(input_dim=vocab_size, output_dim=50, input_length=max_length))\n",
    "model.add(SpatialDropout1D(0.2))\n",
    "model.add(LSTM(100, dropout=0.2, recurrent_dropout=0.2))\n",
    "model.add(Dense(1, activation='sigmoid'))\n",
    "\n",
    "model.compile(loss='binary_crossentropy', optimizer='adam', metrics=['accuracy'])\n",
    "\n",
    "# Entraînement\n",
    "model.fit(X, y, epochs=5, batch_size=1, verbose=2)\n"
   ]
  },
  {
   "cell_type": "markdown",
   "metadata": {},
   "source": [
    "Prédiction avec le Modèle de Deep Learning"
   ]
  },
  {
   "cell_type": "code",
   "execution_count": 7,
   "metadata": {},
   "outputs": [
    {
     "ename": "NameError",
     "evalue": "name 'tokenizer' is not defined",
     "output_type": "error",
     "traceback": [
      "\u001b[1;31m---------------------------------------------------------------------------\u001b[0m",
      "\u001b[1;31mNameError\u001b[0m                                 Traceback (most recent call last)",
      "Cell \u001b[1;32mIn[7], line 3\u001b[0m\n\u001b[0;32m      1\u001b[0m \u001b[38;5;66;03m# Préparation de la nouvelle phrase\u001b[39;00m\n\u001b[0;32m      2\u001b[0m new_text \u001b[38;5;241m=\u001b[39m [\u001b[38;5;124m\"\u001b[39m\u001b[38;5;124mI love python\u001b[39m\u001b[38;5;124m\"\u001b[39m]\n\u001b[1;32m----> 3\u001b[0m new_X \u001b[38;5;241m=\u001b[39m \u001b[43mtokenizer\u001b[49m\u001b[38;5;241m.\u001b[39mtexts_to_sequences(new_text)\n\u001b[0;32m      4\u001b[0m new_X \u001b[38;5;241m=\u001b[39m pad_sequences(new_X, maxlen\u001b[38;5;241m=\u001b[39mmax_length)\n\u001b[0;32m      6\u001b[0m \u001b[38;5;66;03m# Prédiction\u001b[39;00m\n",
      "\u001b[1;31mNameError\u001b[0m: name 'tokenizer' is not defined"
     ]
    }
   ],
   "source": [
    "# Préparation de la nouvelle phrase\n",
    "new_text = [\"I love python\"]\n",
    "new_X = tokenizer.texts_to_sequences(new_text)\n",
    "new_X = pad_sequences(new_X, maxlen=max_length)\n",
    "\n",
    "# Prédiction\n",
    "predicted_prob = model.predict(new_X)\n",
    "predicted_label = label_encoder.inverse_transform([int(predicted_prob[0] > 0.5)])\n",
    "print(f\"The predicted class for '{new_text[0]}' is '{predicted_label[0]}'\")\n"
   ]
  },
  {
   "cell_type": "markdown",
   "metadata": {},
   "source": [
    "Modèle de Naïve Bayes : Simple et rapide pour les petites tâches.\n",
    "\n",
    "Modèle de Deep Learning : Plus complexe mais puissant pour capturer des relations plus profondes dans les données textuelles."
   ]
  }
 ],
 "metadata": {
  "kernelspec": {
   "display_name": "Python 3",
   "language": "python",
   "name": "python3"
  },
  "language_info": {
   "codemirror_mode": {
    "name": "ipython",
    "version": 3
   },
   "file_extension": ".py",
   "mimetype": "text/x-python",
   "name": "python",
   "nbconvert_exporter": "python",
   "pygments_lexer": "ipython3",
   "version": "3.12.1"
  }
 },
 "nbformat": 4,
 "nbformat_minor": 2
}
